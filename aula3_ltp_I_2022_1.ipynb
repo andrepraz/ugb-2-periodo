{
  "nbformat": 4,
  "nbformat_minor": 0,
  "metadata": {
    "colab": {
      "name": "aula3_ltp_I_2022.1.ipynb",
      "provenance": [],
      "collapsed_sections": []
    },
    "kernelspec": {
      "name": "python3",
      "display_name": "Python 3"
    },
    "language_info": {
      "name": "python"
    }
  },
  "cells": [
    {
      "cell_type": "code",
      "execution_count": null,
      "metadata": {
        "colab": {
          "base_uri": "https://localhost:8080/"
        },
        "id": "UTRXH0kWUIVa",
        "outputId": "c4baebb5-2cf7-4080-9c95-8295351d5370"
      },
      "outputs": [
        {
          "output_type": "stream",
          "name": "stdout",
          "text": [
            "61.72839506172839\n",
            "obesidade grau III ou morbida\n"
          ]
        }
      ],
      "source": [
        "peso = 200\n",
        "altura = 1.80\n",
        "imc = peso / (altura * altura)\n",
        "print(imc)\n",
        "if imc < 18.5:\n",
        "  print('Abaixo do peso')\n",
        "elif imc >= 18.5 and imc < 24.9:\n",
        "  print('Peso normal')\n",
        "elif imc >= 24.9 and imc < 29.9:\n",
        "  print('sobrepeso')\n",
        "elif imc >=29.9 and imc < 34.9:\n",
        "  print('obesidade grau I')\n",
        "elif imc >=34.9 and imc < 39.9:\n",
        "  print('obesidade grau II')\n",
        "else:\n",
        "  print('obesidade grau III ou morbida')"
      ]
    },
    {
      "cell_type": "code",
      "source": [
        "lst = []\n",
        "type(lst)\n",
        "lst.append(1)\n",
        "lst.append(1.6)\n",
        "lst.append('UGB')\n",
        "lst.append(True)\n",
        "lst.append([4,6,8])\n",
        "print(lst)\n",
        "lst[4]\n",
        "lst[4][2]\n",
        "lista = [6, 5, 8, 3]\n",
        "print(lst, lista)\n",
        "lst.extend(lista)\n",
        "print(lst)\n",
        "lst.index('UGB')\n",
        "lst.insert(1, 'andre')\n",
        "lst.pop(4)\n",
        "print(lst)\n",
        "lst.reverse()\n",
        "b = lista.sort()\n",
        "print(b)"
      ],
      "metadata": {
        "colab": {
          "base_uri": "https://localhost:8080/"
        },
        "id": "azEXAmlMduY0",
        "outputId": "83b0f186-1784-425c-f717-5b2c6c50ff12"
      },
      "execution_count": null,
      "outputs": [
        {
          "output_type": "stream",
          "name": "stdout",
          "text": [
            "[1, 1.6, 'UGB', True, [4, 6, 8]]\n",
            "[1, 1.6, 'UGB', True, [4, 6, 8]] [6, 5, 8, 3]\n",
            "[1, 1.6, 'UGB', True, [4, 6, 8], 6, 5, 8, 3]\n",
            "[1, 'andre', 1.6, 'UGB', [4, 6, 8], 6, 5, 8, 3]\n",
            "None\n"
          ]
        }
      ]
    },
    {
      "cell_type": "code",
      "source": [
        "a = (1, 9, 3)\n",
        "\n",
        "type(a)\n",
        "a[1]\n",
        "b = list(a)\n",
        "c = tuple(b)\n",
        "d = 'andre ricardo'\n",
        "list(d)\n",
        "d[1]\n",
        "# b = 1.4\n",
        "# for i in b:\n",
        "#   print(i)"
      ],
      "metadata": {
        "colab": {
          "base_uri": "https://localhost:8080/",
          "height": 35
        },
        "id": "C2LwiAuvjeDP",
        "outputId": "b5c811f8-ab9f-4fef-ef0c-a10ba3c8598e"
      },
      "execution_count": null,
      "outputs": [
        {
          "output_type": "execute_result",
          "data": {
            "application/vnd.google.colaboratory.intrinsic+json": {
              "type": "string"
            },
            "text/plain": [
              "'n'"
            ]
          },
          "metadata": {},
          "execution_count": 71
        }
      ]
    },
    {
      "cell_type": "code",
      "source": [
        "dicio = {'nome': 'andre', 'end': 'ugb'}\n",
        "dicio.keys()\n",
        "dicio.values()\n",
        "# for i in dicio:\n",
        "#   print(dicio[i])\n",
        "dicio['rua'] = 'Vereador Aristides Martins'\n",
        "for k, v in dicio.items():\n",
        "  print (k, v)\n",
        "print(dicio)"
      ],
      "metadata": {
        "colab": {
          "base_uri": "https://localhost:8080/"
        },
        "id": "jjTsM2zbsofU",
        "outputId": "b47c8700-d8de-4177-c6fc-81324dd9ddf9"
      },
      "execution_count": null,
      "outputs": [
        {
          "output_type": "stream",
          "name": "stdout",
          "text": [
            "nome andre\n",
            "end ugb\n",
            "rua Vereador Aristides Martins\n",
            "{'nome': 'andre', 'end': 'ugb', 'rua': 'Vereador Aristides Martins'}\n"
          ]
        }
      ]
    },
    {
      "cell_type": "code",
      "source": [
        "conjunto = set()\n",
        "# conjunto = {}\n",
        "type(conjunto)\n",
        "lista1 = [6, 5, 8, 3, 6]\n",
        "lista2 = [4, 5, 9, 3, 6]\n",
        "a = set(lista1)\n",
        "b = set(lista2)\n",
        "print(a)\n",
        "print(b)\n",
        "print(a.union(b))\n",
        "print(a.intersection(b))\n",
        "print(a.difference(b))"
      ],
      "metadata": {
        "colab": {
          "base_uri": "https://localhost:8080/"
        },
        "id": "WgArizNdvHkB",
        "outputId": "1dbc4929-3557-434e-dc7b-ae01f44dc6da"
      },
      "execution_count": null,
      "outputs": [
        {
          "output_type": "stream",
          "name": "stdout",
          "text": [
            "{8, 3, 5, 6}\n",
            "{3, 4, 5, 6, 9}\n",
            "{3, 4, 5, 6, 8, 9}\n",
            "{3, 5, 6}\n",
            "{8}\n"
          ]
        }
      ]
    },
    {
      "cell_type": "code",
      "source": [
        "a = 1\n",
        "while True:\n",
        "  if a == 7000000:\n",
        "    print(a)\n",
        "    break\n",
        "  a = a + 1 # a += 1"
      ],
      "metadata": {
        "colab": {
          "base_uri": "https://localhost:8080/"
        },
        "id": "VWaGqy-dxmd8",
        "outputId": "b1882aa2-706f-4be7-aa47-857ff22035af"
      },
      "execution_count": null,
      "outputs": [
        {
          "output_type": "stream",
          "name": "stdout",
          "text": [
            "7000000\n"
          ]
        }
      ]
    },
    {
      "cell_type": "code",
      "source": [
        "a = 0\n",
        "b = 0\n",
        "while a < 10:\n",
        "  a += 1\n",
        "  if b >= 5:\n",
        "    continue\n",
        "  b += 1\n",
        "print(a, b)"
      ],
      "metadata": {
        "colab": {
          "base_uri": "https://localhost:8080/"
        },
        "id": "wDp7UzX00QVb",
        "outputId": "a51847ba-628b-4871-9f91-380b52430bf9"
      },
      "execution_count": null,
      "outputs": [
        {
          "output_type": "stream",
          "name": "stdout",
          "text": [
            "10 5\n"
          ]
        }
      ]
    },
    {
      "cell_type": "code",
      "source": [
        "sair = 'nao'\n",
        "while sair == 'nao':\n",
        "  a = int(input('Entre com o valor de A: '))\n",
        "  b = int(input('Entre com o valor de B: '))\n",
        "  c = int(input('Entre com o valor de C: '))\n",
        "\n",
        "  if a == b and b == c:\n",
        "    print('equilátero')\n",
        "  elif a == b or a == c or b == c:\n",
        "    print('isósceles')\n",
        "  else:\n",
        "    print('qualquer')\n",
        "\n",
        "  sair = input('Quer sair? ')"
      ],
      "metadata": {
        "colab": {
          "base_uri": "https://localhost:8080/"
        },
        "id": "rP3r5UYs5ebI",
        "outputId": "6d56a46b-d7ce-45b2-e14a-462598fead79"
      },
      "execution_count": null,
      "outputs": [
        {
          "name": "stdout",
          "output_type": "stream",
          "text": [
            "Entre com o valor de A: 5\n",
            "Entre com o valor de B: 5\n",
            "Entre com o valor de C: 5\n",
            "equilátero\n",
            "Quer sair? nao\n",
            "Entre com o valor de A: 3\n",
            "Entre com o valor de B: 5\n",
            "Entre com o valor de C: 5\n",
            "isósceles\n",
            "Quer sair? sim\n"
          ]
        }
      ]
    }
  ]
}
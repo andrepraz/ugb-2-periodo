{
  "nbformat": 4,
  "nbformat_minor": 0,
  "metadata": {
    "colab": {
      "name": "aula_2_2022_2.ipynb",
      "provenance": [],
      "collapsed_sections": []
    },
    "kernelspec": {
      "name": "python3",
      "display_name": "Python 3"
    },
    "language_info": {
      "name": "python"
    }
  },
  "cells": [
    {
      "cell_type": "markdown",
      "source": [
        "A fórmula para calcular a área de uma circunferência é: area = π . raio2. Considerando para este problema que π = 3.14159:\n",
        "\n",
        "- Efetue o cálculo da área, elevando o valor de raio ao quadrado e multiplicando por π.\n",
        "\n",
        "Entrada\n",
        "A entrada contém um valor de ponto flutuante (dupla precisão), no caso, a variável raio.\n",
        "\n",
        "Saída\n",
        "Apresentar a mensagem \"A=\" seguido pelo valor da variável area, conforme exemplo abaixo, com 4 casas após o ponto decimal. Utilize variáveis de dupla precisão (double). Como todos os problemas, não esqueça de imprimir o fim de linha após o resultado, caso contrário, você receberá \"Presentation Error\"."
      ],
      "metadata": {
        "id": "zpRg7dA4rBDr"
      }
    },
    {
      "cell_type": "code",
      "execution_count": 13,
      "metadata": {
        "colab": {
          "base_uri": "https://localhost:8080/"
        },
        "id": "b9zxOXvCY4MC",
        "outputId": "72ab1020-b378-4d25-a88b-1a15f2e32845"
      },
      "outputs": [
        {
          "output_type": "stream",
          "name": "stdout",
          "text": [
            "Entre com o raio: 100.64\n",
            "31819\n",
            "31819.3103\n"
          ]
        }
      ],
      "source": [
        "raio = float(input('Entre com o raio: '))\n",
        "p = 3.14159\n",
        "\n",
        "a = p * raio**2\n",
        "# print('%d' % a)\n",
        "print(f'{a:.4f}')"
      ]
    },
    {
      "cell_type": "code",
      "source": [
        "a = int(input('Entre com o valor de A: '))\n",
        "b = int(input('Entre com o valor de B: '))\n",
        "soma = a + b\n",
        "print(soma)"
      ],
      "metadata": {
        "colab": {
          "base_uri": "https://localhost:8080/"
        },
        "id": "BlGn2vbQrZGw",
        "outputId": "5d530eae-40cf-4303-c576-85652b0984f2"
      },
      "execution_count": 15,
      "outputs": [
        {
          "output_type": "stream",
          "name": "stdout",
          "text": [
            "Entre com o valor de A: -30\n",
            "Entre com o valor de B: 10\n",
            "-20\n"
          ]
        }
      ]
    },
    {
      "cell_type": "code",
      "source": [
        "def entre_zero_dez(nota):\n",
        "  while True:\n",
        "    valor = float(input(f\"entre com a nota {nota}: \"))\n",
        "    if valor < 0 or valor > 10:\n",
        "      print('Valores entre 0 e 10')\n",
        "      continue\n",
        "    else:\n",
        "      return valor\n",
        "\n",
        "# while True:\n",
        "#   nota2 = float(input(\"entre com a nota 2: \"))\n",
        "#   if nota2 < 0 or nota2 > 10:\n",
        "#     print('Valores entre 0 e 10')\n",
        "#     continue\n",
        "#   else:\n",
        "#     break\n",
        "\n",
        "nota1 = entre_zero_dez(1)\n",
        "nota2 = entre_zero_dez(2)\n",
        "\n",
        "media = ((nota1 * 3.5) + (nota2 * 7.5))/11\n",
        "\n",
        "print(f'MEDIA = {media:.5f}')"
      ],
      "metadata": {
        "colab": {
          "base_uri": "https://localhost:8080/"
        },
        "id": "IbhsoDGQz8tk",
        "outputId": "2e40ea12-ba42-434d-aa82-dafe68b722e1"
      },
      "execution_count": 19,
      "outputs": [
        {
          "output_type": "stream",
          "name": "stdout",
          "text": [
            "entre com a nota 1: 11\n",
            "Valores entre 0 e 10\n",
            "entre com a nota 1: -1\n",
            "Valores entre 0 e 10\n",
            "entre com a nota 1: 1\n",
            "entre com a nota 2: 2\n",
            "MEDIA = 1.68182\n"
          ]
        }
      ]
    },
    {
      "cell_type": "code",
      "source": [
        "a = 1\n",
        "if a == 2:\n",
        "  pass"
      ],
      "metadata": {
        "id": "JE9KnjUR2cG4"
      },
      "execution_count": 21,
      "outputs": []
    }
  ]
}